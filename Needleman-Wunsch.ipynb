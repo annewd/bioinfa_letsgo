{
  "nbformat": 4,
  "nbformat_minor": 0,
  "metadata": {
    "colab": {
      "name": "биоинфа хаха",
      "provenance": [],
      "collapsed_sections": []
    },
    "kernelspec": {
      "name": "python3",
      "display_name": "Python 3"
    },
    "language_info": {
      "name": "python"
    }
  },
  "cells": [
    {
      "cell_type": "code",
      "metadata": {
        "id": "NmQDMqCo2Yvp"
      },
      "source": [
        "#Чтение fasta файлов\n",
        "def fasta_to_seq(link):\n",
        "    with open(link) as file:\n",
        "        lines = file.readlines() #прочитали строчки и запомнили\n",
        "    seq = ''\n",
        "    lines = lines[1:] #поскольку у нас фаста-файл состоит из строчки-описания и строчки-последовательности, можем взять 1ю строку файла и это будет наша последовательность\n",
        "    for i in range (len(lines)):\n",
        "        if lines[i].isalpha() and lines[i].isupper(): #проверяем, что то, что мы добавляем - английская заглавная буква\n",
        "            seq = seq + lines[i]\n",
        "    return seq"
      ],
      "execution_count": 14,
      "outputs": []
    },
    {
      "cell_type": "code",
      "metadata": {
        "colab": {
          "base_uri": "https://localhost:8080/"
        },
        "id": "EAmDKTSwnQTp",
        "outputId": "0df145eb-fec5-4d30-9526-46e68e232b08"
      },
      "source": [
        "seq1 = fasta_to_seq('1.fasta') #первая последовательность\n",
        "seq2 = fasta_to_seq('2.fasta') #вторая последовательность\n",
        "match = 2 #score для мэтча\n",
        "mismatch = -2 #score для мисмэтча\n",
        "gap = -1 #score для пропуска\n",
        "alignment1 = '' #тут зададим переменные, которые потом будут выводом\n",
        "alignment2 = ''\n",
        "M = [[0 for _ in range(len(seq1) + 1)] for _ in range(len(seq2) + 1)] #задали матрицу со строчкой для пропусков\n",
        "print('Последовательность 1:', seq1)\n",
        "print('Последовательность 2:', seq2)"
      ],
      "execution_count": 17,
      "outputs": [
        {
          "output_type": "stream",
          "name": "stdout",
          "text": [
            "Последовательность 1: KNWEDFEIAAENMYMANPQNCRYTMKYVHSKGHILLKMSDNVKCVQYRAENMPDLKK\n",
            "Последовательность 2: EEFSRAVEKLYLTDPMKVRVVLKYRHCDGNLCIKVTDNSVVSYEMRLFGVQKDNFALEHSLL\n"
          ]
        }
      ]
    },
    {
      "cell_type": "code",
      "metadata": {
        "id": "iGoTHaRCnnBv"
      },
      "source": [
        "#заполним нулевую колонку и нулевую строку\n",
        "for i in range (1, len(seq2)+1):\n",
        "    M[i][0] = M[(i-1)][0] + gap\n",
        "for j in range (1, len(seq1)+1):\n",
        "    M[0][j] = M[0][(j-1)] + gap"
      ],
      "execution_count": 18,
      "outputs": []
    },
    {
      "cell_type": "code",
      "metadata": {
        "id": "aNXBp2I7nvEL"
      },
      "source": [
        "#заполним табличку\n",
        "for i in range (1, len(seq2)+1):\n",
        "    for j in range (1, len(seq1)+1):\n",
        "        m_ver = M[i-1][j] + gap #приходим сверху - значение ячейки откуда пришли + гэп\n",
        "        m_hor = M[i][j-1] + gap #приходим слева - значение ячейки откуда пришли + гэп      \n",
        "        if seq2[i-1] == seq1[j-1]:\n",
        "            m_dia = M[i-1][j-1] + match #диагональ если значения элементов равны\n",
        "        else:\n",
        "            m_dia = M[i-1][j-1] + mismatch #диагональ если значения элементов равны\n",
        "            \n",
        "        M[i][j] = max(m_ver, m_hor, m_dia) #заполним ячейку максимальным из трёх значений"
      ],
      "execution_count": 19,
      "outputs": []
    },
    {
      "cell_type": "code",
      "metadata": {
        "id": "EVEv4nyinxn7"
      },
      "source": [
        "n = len(seq1) #счётчик шагов от длины строки до нуля\n",
        "m = len(seq2)"
      ],
      "execution_count": 20,
      "outputs": []
    },
    {
      "cell_type": "code",
      "metadata": {
        "colab": {
          "base_uri": "https://localhost:8080/"
        },
        "id": "4AJsCMQSn0D1",
        "outputId": "40857f1e-a25b-4d94-c905-57ae5fac09f8"
      },
      "source": [
        "while m != 0 or n != 0: #пока счётчик по обеим строкам не равен нулю, сравниваем значение ячейки с соседями+очки за мэтч мисмэтч или гэп\n",
        "    score = M[m][n] \n",
        "    score_ver = M[m-1][n]\n",
        "    score_hor = M[m][n-1]\n",
        "    score_dia = M[m-1][n-1]\n",
        "    if score == score_dia + match and ord(seq1[n - 1]) == ord(seq2[m - 1]):  \n",
        "        alignment1 = alignment1 + seq1[n-1]                                \n",
        "        alignment2 = alignment2 + seq2[m-1]\n",
        "        m = m - 1\n",
        "        n = n - 1\n",
        "    elif score == score_ver + gap:\n",
        "        alignment1 = alignment1 + '_'\n",
        "        alignment2 = alignment2 + seq2[m-1] \n",
        "        m = m-1\n",
        "    elif score == score_hor + gap: \n",
        "        alignment1 = alignment1 + seq1[n-1]\n",
        "        alignment2 = alignment2 + '_'\n",
        "        n = n-1\n",
        "    elif score == score_dia + mismatch and ord(seq1[n - 1]) != ord(seq2[m - 1]):\n",
        "        alignment1 = alignment1 + seq1[n - 1]\n",
        "        alignment2 = alignment2 + seq2[m - 1]\n",
        "        m = m - 1\n",
        "        n = n - 1\n",
        "print('Итоговое выравнивание:')\n",
        "print(alignment1[::-1])\n",
        "print(alignment2[::-1])"
      ],
      "execution_count": 21,
      "outputs": [
        {
          "output_type": "stream",
          "name": "stdout",
          "text": [
            "Итоговое выравнивание:\n",
            "KNWEDFEIA___A_ENMYMANPQNCR__Y_T__MKYVHS____KG__HIL____L__KMS__DN_VKCVQ_YRAENMPD_LK____K__________\n",
            "___E__E__FSRAVE___________KLYLTDPMK_V__RVVLK_YRH__CDGNLCIK__VTDNSV__V_SY__E_M__RL_FGVQKDNFALEHSLL\n"
          ]
        }
      ]
    }
  ]
}