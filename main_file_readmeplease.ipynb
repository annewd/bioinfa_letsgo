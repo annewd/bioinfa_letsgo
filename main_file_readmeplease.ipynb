{
 "cells": [
  {
   "cell_type": "markdown",
   "id": "7ae4f068",
   "metadata": {},
   "source": [
    "Для начала, нам нужно написать функцию, которая \"вытаскивает\" данные о последовательности из файла расширеня .fasta. \n",
    "\n",
    "Для этого откроем файл и прочитаем всё, кроме первой (в терминах программистов - нулевой) строчки (которая содержит описание последовательности после знака >). Затем мы проверяем, что то, что мы читаем - биоинформатическая последовательность (только заглавные английские буквы), без цифр, астерисков и других символов. Данная функция представлена ниже.  "
   ]
  },
  {
   "cell_type": "code",
   "execution_count": 1,
   "id": "129c8dbf",
   "metadata": {},
   "outputs": [],
   "source": [
    "#Чтение fasta файлов\n",
    "def fasta_to_seq(link):\n",
    "    with open(link) as file:\n",
    "        lines = file.readlines() #прочитали строчки и запомнили\n",
    "    seq = ''\n",
    "    lines = lines[1:]\n",
    "    for i in range (len(lines)):\n",
    "        if lines[i].isalpha() and lines[i].isupper(): #проверяем, что то, что мы добавляем - английская заглавная буква\n",
    "            seq = seq + lines[i]\n",
    "    return seq"
   ]
  },
  {
   "cell_type": "markdown",
   "id": "d873aa52",
   "metadata": {},
   "source": [
    "Зададим все необходимые переменные:\n",
    "\n",
    "1. Последовательности seq1 и seq2, которые мы \"достали\" из FASTA-файла;\n",
    "2. Очки, которые мы назначаем совпадению (match), несовпадению (mismatch), и пропуску (gap). По условию задания штраф за прпуск в два раза меньше штрафа за несовпадение;\n",
    "3. Пустые строки alignment1 и alignment2, которые в дальнейшем будут выводом итогового выравнивания\n",
    "\n",
    "Также создадим нулевую матрицу (n+1) * (m+1), выделяя строку и столбец под сравнение с пропуском, где n = len(seq1), m = len(seq2).\n",
    "Для проверки также сделаем output наших последовательностей."
   ]
  },
  {
   "cell_type": "code",
   "execution_count": 2,
   "id": "7736cdc8",
   "metadata": {
    "scrolled": false
   },
   "outputs": [
    {
     "name": "stdout",
     "output_type": "stream",
     "text": [
      "Последовательность 1: KNWEDFEIAAENMYMANPQNCRYTMKYVHSKGHILLKMSDNVKCVQYRAENMPDLKK\n",
      "Последовательность 2: EEFSRAVEKLYLTDPMKVRVVLKYRHCDGNLCIKVTDNSVVSYEMRLFGVQKDNFALEHSLL\n"
     ]
    }
   ],
   "source": [
    "seq1 = fasta_to_seq('1.fasta') \n",
    "seq2 = fasta_to_seq('2.fasta') \n",
    "\n",
    "match = 2 \n",
    "mismatch = -2 \n",
    "gap = -1 \n",
    "\n",
    "alignment1 = '' \n",
    "alignment2 = ''\n",
    "\n",
    "M = [[0 for _ in range(len(seq1) + 1)] for _ in range(len(seq2) + 1)] #задали матрицу со строчкой для пропусков\n",
    "\n",
    "print('Последовательность 1:', seq1)\n",
    "print('Последовательность 2:', seq2)"
   ]
  },
  {
   "cell_type": "markdown",
   "id": "d4e9562e",
   "metadata": {},
   "source": [
    "Дальше приступаем к заполнению матрицы схожести. Первым делом заполним нулевую строку и нулевой столбец, учитывая, что мы сравниваем предыдущий вертикальный/горизонтальный элемент с пропуском (назначая пенальти за gap). "
   ]
  },
  {
   "cell_type": "code",
   "execution_count": 3,
   "id": "57530cf7",
   "metadata": {
    "scrolled": true
   },
   "outputs": [],
   "source": [
    "for i in range (1, len(seq2)+1):\n",
    "    M[i][0] = M[(i-1)][0] + gap\n",
    "for j in range (1, len(seq1)+1):\n",
    "    M[0][j] = M[0][(j-1)] + gap"
   ]
  },
  {
   "cell_type": "markdown",
   "id": "37470fc6",
   "metadata": {},
   "source": [
    "Продолжим заполнение матрицы схожести. \n",
    "\n",
    "Напомним, что ячейке присваивается то значение, которое является максимальным из трёх возможных m_ver (\"приходим\" в ячейку сверху, сравниваем с пропуском, суммируем значение предыдущей ячейки и gap), m_hor (\"приходим\" в ячейку слева, сравниваем опять же с пропуском, суммируем значение предыдущей ячейки и gap) и m_dia (\"приходим\" в ячейку слева сверху, сравниваем буквы в столбце и строке между собой, назначаем штраф за мисмэтч или мэтч, суммируем значение предыдущей ячейки и mismatch/match)."
   ]
  },
  {
   "cell_type": "code",
   "execution_count": 4,
   "id": "376c3931",
   "metadata": {
    "scrolled": true
   },
   "outputs": [],
   "source": [
    "#заполним табличку\n",
    "for i in range (1, len(seq2)+1):\n",
    "    for j in range (1, len(seq1)+1):\n",
    "        m_ver = M[i-1][j] + gap #приходим сверху - значение ячейки откуда пришли + гэп\n",
    "        m_hor = M[i][j-1] + gap #приходим слева - значение ячейки откуда пришли + гэп      \n",
    "        if seq2[i-1] == seq1[j-1]:\n",
    "            m_dia = M[i-1][j-1] + match #диагональ если значения элементов равны\n",
    "        else:\n",
    "            m_dia = M[i-1][j-1] + mismatch #диагональ если значения элементов равны\n",
    "            \n",
    "        M[i][j] = max(m_ver, m_hor, m_dia) #заполним ячейку максимальным из трёх значений"
   ]
  },
  {
   "cell_type": "markdown",
   "id": "b531d31f",
   "metadata": {},
   "source": [
    "Теперь нам нужно построить непосредственно выравнивание по матрице схожести. Для этого мы постепенно прослеживаем путь, с помощью которого мы пришли в самую правую нижнюю ячейку матрицы. \n",
    "\n",
    "Заведём счётчики равные длине строк, будем вычитать из них единицу каждый раз, когда делаем \"шаг\". Шаги будем продолжать до тех пор, пока счётчики не обнулятся, то есть мы не придём в самую первую ячейку.\n",
    "\n",
    "Отслеживать путь мы будем сравнивая значение ij-той ячейки с соседом + назначенное пенальти (если пришли слева или сверху, то это gap, если по диагонали - то это мэтч или мисмэтч). Если сосед + пенальти в сумме даёт нашу ячейку, то значит, что мы пришли со стороны именно этого соседа.\n",
    "\n",
    "Отдельного внимания заслуживает то, как мы поступаем с \"диагональными\" ячейками. Помимо сравнения ячейки, в которой мы находимся, с соседом + пенальти, мы также проверяем, равны ли буквы, чтобы если существует несколько путей, выбрать наиболее верный."
   ]
  },
  {
   "cell_type": "code",
   "execution_count": 5,
   "id": "1af950bf",
   "metadata": {},
   "outputs": [
    {
     "name": "stdout",
     "output_type": "stream",
     "text": [
      "Итоговое выравнивание:\n",
      "KNWEDFEIA___A_ENMYMANPQNCR__Y_T__MKYVHS____KG__HIL____L__KMS__DN_VKCVQ_YRAENMPD_LK____K__________\n",
      "___E__E__FSRAVE___________KLYLTDPMK_V__RVVLK_YRH__CDGNLCIK__VTDNSV__V_SY__E_M__RL_FGVQKDNFALEHSLL\n"
     ]
    }
   ],
   "source": [
    "n = len(seq1) #счётчик шагов от длины строки до нуля\n",
    "m = len(seq2)\n",
    "\n",
    "while m != 0 or n != 0: \n",
    "    score = M[m][n] \n",
    "    score_ver = M[m-1][n]\n",
    "    score_hor = M[m][n-1]\n",
    "    score_dia = M[m-1][n-1]\n",
    "    if score == score_dia + match and seq1[n - 1] == seq2[m - 1]:  \n",
    "        alignment1 = alignment1 + seq1[n-1]                                \n",
    "        alignment2 = alignment2 + seq2[m-1]\n",
    "        m = m - 1\n",
    "        n = n - 1\n",
    "    elif score == score_ver + gap:\n",
    "        alignment1 = alignment1 + '_'\n",
    "        alignment2 = alignment2 + seq2[m-1] \n",
    "        m = m-1\n",
    "    elif score == score_hor + gap: \n",
    "        alignment1 = alignment1 + seq1[n-1]\n",
    "        alignment2 = alignment2 + '_'\n",
    "        n = n-1\n",
    "    elif score == score_dia + mismatch and seq1[n - 1] != seq2[m - 1]:\n",
    "        alignment1 = alignment1 + seq1[n - 1]\n",
    "        alignment2 = alignment2 + seq2[m - 1]\n",
    "        m = m - 1\n",
    "        n = n - 1\n",
    "        \n",
    "print('Итоговое выравнивание:')\n",
    "print(alignment1[::-1]) #пишем в обратную сторону так как мы добавляли каждый новый символ в конец\n",
    "print(alignment2[::-1])"
   ]
  },
  {
   "cell_type": "markdown",
   "id": "ff2e5bfa",
   "metadata": {},
   "source": [
    "Вот такая вот реализация алгоритма Нидлмана-Вунша выравнивания двух последовательностей!"
   ]
  }
 ],
 "metadata": {
  "kernelspec": {
   "display_name": "Python 3",
   "language": "python",
   "name": "python3"
  },
  "language_info": {
   "codemirror_mode": {
    "name": "ipython",
    "version": 3
   },
   "file_extension": ".py",
   "mimetype": "text/x-python",
   "name": "python",
   "nbconvert_exporter": "python",
   "pygments_lexer": "ipython3",
   "version": "3.8.8"
  }
 },
 "nbformat": 4,
 "nbformat_minor": 5
}
